{
 "cells": [
  {
   "cell_type": "code",
   "execution_count": 31,
   "metadata": {},
   "outputs": [],
   "source": [
    "import pandas as pd\n",
    "import numpy as np\n",
    "from scipy import sparse\n",
    "import random"
   ]
  },
  {
   "cell_type": "code",
   "execution_count": 32,
   "metadata": {},
   "outputs": [
    {
     "data": {
      "text/html": [
       "<div>\n",
       "<style scoped>\n",
       "    .dataframe tbody tr th:only-of-type {\n",
       "        vertical-align: middle;\n",
       "    }\n",
       "\n",
       "    .dataframe tbody tr th {\n",
       "        vertical-align: top;\n",
       "    }\n",
       "\n",
       "    .dataframe thead th {\n",
       "        text-align: right;\n",
       "    }\n",
       "</style>\n",
       "<table border=\"1\" class=\"dataframe\">\n",
       "  <thead>\n",
       "    <tr style=\"text-align: right;\">\n",
       "      <th></th>\n",
       "      <th>qid</th>\n",
       "      <th>query</th>\n",
       "      <th>did</th>\n",
       "      <th>doc</th>\n",
       "    </tr>\n",
       "  </thead>\n",
       "  <tbody>\n",
       "    <tr>\n",
       "      <th>0</th>\n",
       "      <td>9265503</td>\n",
       "      <td>github</td>\n",
       "      <td>D1265400</td>\n",
       "      <td>https://desktop.github.com/</td>\n",
       "    </tr>\n",
       "    <tr>\n",
       "      <th>1</th>\n",
       "      <td>9265503</td>\n",
       "      <td>github</td>\n",
       "      <td>D3438005</td>\n",
       "      <td>https://github.com/</td>\n",
       "    </tr>\n",
       "    <tr>\n",
       "      <th>2</th>\n",
       "      <td>6832981</td>\n",
       "      <td>youtube</td>\n",
       "      <td>D2923232</td>\n",
       "      <td>https://au.youtube.com/</td>\n",
       "    </tr>\n",
       "  </tbody>\n",
       "</table>\n",
       "</div>"
      ],
      "text/plain": [
       "       qid    query       did                          doc\n",
       "0  9265503   github  D1265400  https://desktop.github.com/\n",
       "1  9265503   github  D3438005          https://github.com/\n",
       "2  6832981  youtube  D2923232      https://au.youtube.com/"
      ]
     },
     "execution_count": 32,
     "metadata": {},
     "output_type": "execute_result"
    }
   ],
   "source": [
    "inputfile = \"C:\\\\Users\\\\thumm\\\\Documents\\\\machineLearning\\\\nlp\\\\data\\\\orcas.tsv\"\n",
    "data = pd.read_csv(inputfile, sep='\\t', header=None)\n",
    "data.columns = ['qid','query','did','doc']\n",
    "data.head(3)"
   ]
  },
  {
   "cell_type": "code",
   "execution_count": 33,
   "metadata": {},
   "outputs": [],
   "source": [
    "qids = data['qid'].unique()\n",
    "dids = data['did'].unique()"
   ]
  },
  {
   "cell_type": "code",
   "execution_count": 35,
   "metadata": {},
   "outputs": [],
   "source": [
    "qidsmap = dict()\n",
    "\n",
    "for i in range(qids.shape[0]):\n",
    "    qidsmap[qids[i]] = i\n",
    "\n",
    "#print(qidsmap)\n",
    "\n",
    "didsmap = dict()\n",
    "for i in range(dids.shape[0]):\n",
    "    didsmap[dids[i]] = i\n",
    "#print(didsmap)"
   ]
  },
  {
   "cell_type": "code",
   "execution_count": 36,
   "metadata": {},
   "outputs": [],
   "source": [
    "data['qidint'] = data.apply(lambda row : qidsmap[row['qid']], axis=1)\n",
    "data['didint'] = data.apply(lambda row : didsmap[row['did']], axis=1)"
   ]
  },
  {
   "cell_type": "code",
   "execution_count": 37,
   "metadata": {},
   "outputs": [
    {
     "data": {
      "text/html": [
       "<div>\n",
       "<style scoped>\n",
       "    .dataframe tbody tr th:only-of-type {\n",
       "        vertical-align: middle;\n",
       "    }\n",
       "\n",
       "    .dataframe tbody tr th {\n",
       "        vertical-align: top;\n",
       "    }\n",
       "\n",
       "    .dataframe thead th {\n",
       "        text-align: right;\n",
       "    }\n",
       "</style>\n",
       "<table border=\"1\" class=\"dataframe\">\n",
       "  <thead>\n",
       "    <tr style=\"text-align: right;\">\n",
       "      <th></th>\n",
       "      <th>qid</th>\n",
       "      <th>query</th>\n",
       "      <th>did</th>\n",
       "      <th>doc</th>\n",
       "      <th>qidint</th>\n",
       "      <th>didint</th>\n",
       "    </tr>\n",
       "  </thead>\n",
       "  <tbody>\n",
       "    <tr>\n",
       "      <th>0</th>\n",
       "      <td>9265503</td>\n",
       "      <td>github</td>\n",
       "      <td>D1265400</td>\n",
       "      <td>https://desktop.github.com/</td>\n",
       "      <td>0</td>\n",
       "      <td>0</td>\n",
       "    </tr>\n",
       "    <tr>\n",
       "      <th>1</th>\n",
       "      <td>9265503</td>\n",
       "      <td>github</td>\n",
       "      <td>D3438005</td>\n",
       "      <td>https://github.com/</td>\n",
       "      <td>0</td>\n",
       "      <td>1</td>\n",
       "    </tr>\n",
       "    <tr>\n",
       "      <th>2</th>\n",
       "      <td>6832981</td>\n",
       "      <td>youtube</td>\n",
       "      <td>D2923232</td>\n",
       "      <td>https://au.youtube.com/</td>\n",
       "      <td>1</td>\n",
       "      <td>2</td>\n",
       "    </tr>\n",
       "  </tbody>\n",
       "</table>\n",
       "</div>"
      ],
      "text/plain": [
       "       qid    query       did                          doc  qidint  didint\n",
       "0  9265503   github  D1265400  https://desktop.github.com/       0       0\n",
       "1  9265503   github  D3438005          https://github.com/       0       1\n",
       "2  6832981  youtube  D2923232      https://au.youtube.com/       1       2"
      ]
     },
     "execution_count": 37,
     "metadata": {},
     "output_type": "execute_result"
    }
   ],
   "source": [
    "data.head(3)"
   ]
  },
  {
   "cell_type": "code",
   "execution_count": 26,
   "metadata": {},
   "outputs": [],
   "source": [
    "a = data['qidint'].astype(str) + data['didint'].astype(str)"
   ]
  },
  {
   "cell_type": "code",
   "execution_count": 28,
   "metadata": {},
   "outputs": [
    {
     "name": "stdout",
     "output_type": "stream",
     "text": [
      "18823256\n",
      "18823553\n"
     ]
    }
   ],
   "source": [
    "print(len(a.unique()))\n",
    "print(len(data))"
   ]
  },
  {
   "cell_type": "code",
   "execution_count": 29,
   "metadata": {},
   "outputs": [],
   "source": [
    "def sample_zero_forever(rows, cols, nonzero_or_sampled):\n",
    "    while True:\n",
    "        t = tuple([random.randrange(0, rows, 1), random.randrange(0, cols, 1)])\n",
    "        if t not in nonzero_or_sampled:\n",
    "            yield t\n",
    "            nonzero_or_sampled.add(t)\n",
    "    "
   ]
  },
  {
   "cell_type": "code",
   "execution_count": 38,
   "metadata": {},
   "outputs": [
    {
     "name": "stdout",
     "output_type": "stream",
     "text": [
      "(10405321, 1422026)\n"
     ]
    }
   ],
   "source": [
    "dims = (data['qidint'].max(), data['didint'].max())\n",
    "print(dims)\n",
    "\n",
    "mat = sparse.csr_matrix((np.ones(data.shape[0]), (data['qidint'], data['didint'])))\n",
    "#del data\n",
    "\n",
    "rows = mat.shape[0]\n",
    "cols = mat.shape[1]\n",
    "nonzero_or_sampled = set(zip(*mat.nonzero()))\n",
    "del mat\n",
    "itr = sample_zero_forever(rows, cols, nonzero_or_sampled)\n",
    "zeroedges = []\n",
    "\n",
    "for _ in range(40000000):\n",
    "    zeroedges.append(next(itr))"
   ]
  },
  {
   "cell_type": "code",
   "execution_count": 47,
   "metadata": {},
   "outputs": [
    {
     "data": {
      "text/html": [
       "<div>\n",
       "<style scoped>\n",
       "    .dataframe tbody tr th:only-of-type {\n",
       "        vertical-align: middle;\n",
       "    }\n",
       "\n",
       "    .dataframe tbody tr th {\n",
       "        vertical-align: top;\n",
       "    }\n",
       "\n",
       "    .dataframe thead th {\n",
       "        text-align: right;\n",
       "    }\n",
       "</style>\n",
       "<table border=\"1\" class=\"dataframe\">\n",
       "  <thead>\n",
       "    <tr style=\"text-align: right;\">\n",
       "      <th></th>\n",
       "      <th>qid</th>\n",
       "      <th>query</th>\n",
       "      <th>did</th>\n",
       "      <th>doc</th>\n",
       "      <th>qidint</th>\n",
       "      <th>didint</th>\n",
       "    </tr>\n",
       "  </thead>\n",
       "  <tbody>\n",
       "    <tr>\n",
       "      <th>1</th>\n",
       "      <td>9265503</td>\n",
       "      <td>github</td>\n",
       "      <td>D3438005</td>\n",
       "      <td>https://github.com/</td>\n",
       "      <td>0</td>\n",
       "      <td>1</td>\n",
       "    </tr>\n",
       "    <tr>\n",
       "      <th>6457999</th>\n",
       "      <td>9265503</td>\n",
       "      <td>github</td>\n",
       "      <td>D3438005</td>\n",
       "      <td>https://github.com/</td>\n",
       "      <td>0</td>\n",
       "      <td>1</td>\n",
       "    </tr>\n",
       "  </tbody>\n",
       "</table>\n",
       "</div>"
      ],
      "text/plain": [
       "             qid   query       did                  doc  qidint  didint\n",
       "1        9265503  github  D3438005  https://github.com/       0       1\n",
       "6457999  9265503  github  D3438005  https://github.com/       0       1"
      ]
     },
     "execution_count": 47,
     "metadata": {},
     "output_type": "execute_result"
    }
   ],
   "source": [
    "q,d = zeroedges[1]\n",
    "data[(data['qidint']==0) & (data['didint']==1)]"
   ]
  },
  {
   "cell_type": "code",
   "execution_count": 49,
   "metadata": {},
   "outputs": [],
   "source": [
    "data.drop_duplicates(inplace=True)"
   ]
  },
  {
   "cell_type": "code",
   "execution_count": 50,
   "metadata": {},
   "outputs": [
    {
     "data": {
      "text/plain": [
       "18823283"
      ]
     },
     "execution_count": 50,
     "metadata": {},
     "output_type": "execute_result"
    }
   ],
   "source": [
    "len(data)"
   ]
  },
  {
   "cell_type": "code",
   "execution_count": 52,
   "metadata": {},
   "outputs": [
    {
     "name": "stdout",
     "output_type": "stream",
     "text": [
      "40000000\n",
      "40000000\n"
     ]
    }
   ],
   "source": [
    "nonedges = pd.DataFrame(zeroedges, columns=['qidint', 'didint'])\n",
    "print(len(nonedges))\n",
    "nonedges.drop_duplicates(inplace=True)\n",
    "print(len(nonedges))\n",
    "\n",
    "#nonedgesdata = pd.merge(nonedges, data, on=['qidint', 'didint'], how='inner')"
   ]
  },
  {
   "cell_type": "code",
   "execution_count": 59,
   "metadata": {},
   "outputs": [],
   "source": [
    "queries = data[['qid', 'query', 'qidint']].drop_duplicates()\n",
    "docs = data[['did', 'doc', 'didint']].drop_duplicates()"
   ]
  },
  {
   "cell_type": "code",
   "execution_count": 56,
   "metadata": {},
   "outputs": [
    {
     "data": {
      "text/html": [
       "<div>\n",
       "<style scoped>\n",
       "    .dataframe tbody tr th:only-of-type {\n",
       "        vertical-align: middle;\n",
       "    }\n",
       "\n",
       "    .dataframe tbody tr th {\n",
       "        vertical-align: top;\n",
       "    }\n",
       "\n",
       "    .dataframe thead th {\n",
       "        text-align: right;\n",
       "    }\n",
       "</style>\n",
       "<table border=\"1\" class=\"dataframe\">\n",
       "  <thead>\n",
       "    <tr style=\"text-align: right;\">\n",
       "      <th></th>\n",
       "      <th>qidint</th>\n",
       "      <th>didint</th>\n",
       "    </tr>\n",
       "  </thead>\n",
       "  <tbody>\n",
       "    <tr>\n",
       "      <th>0</th>\n",
       "      <td>6362512</td>\n",
       "      <td>1005356</td>\n",
       "    </tr>\n",
       "    <tr>\n",
       "      <th>1</th>\n",
       "      <td>5815201</td>\n",
       "      <td>958336</td>\n",
       "    </tr>\n",
       "    <tr>\n",
       "      <th>2</th>\n",
       "      <td>473050</td>\n",
       "      <td>1096643</td>\n",
       "    </tr>\n",
       "  </tbody>\n",
       "</table>\n",
       "</div>"
      ],
      "text/plain": [
       "    qidint   didint\n",
       "0  6362512  1005356\n",
       "1  5815201   958336\n",
       "2   473050  1096643"
      ]
     },
     "execution_count": 56,
     "metadata": {},
     "output_type": "execute_result"
    }
   ],
   "source": [
    "nonedges.head(3)"
   ]
  },
  {
   "cell_type": "code",
   "execution_count": 60,
   "metadata": {},
   "outputs": [],
   "source": [
    "nonedgesdata1 = nonedges.merge(queries, on='qidint', how='inner')\n",
    "nonedgesdata2 = nonedgesdata1.merge(docs, on='didint', how='inner')"
   ]
  },
  {
   "cell_type": "code",
   "execution_count": 61,
   "metadata": {},
   "outputs": [
    {
     "data": {
      "text/html": [
       "<div>\n",
       "<style scoped>\n",
       "    .dataframe tbody tr th:only-of-type {\n",
       "        vertical-align: middle;\n",
       "    }\n",
       "\n",
       "    .dataframe tbody tr th {\n",
       "        vertical-align: top;\n",
       "    }\n",
       "\n",
       "    .dataframe thead th {\n",
       "        text-align: right;\n",
       "    }\n",
       "</style>\n",
       "<table border=\"1\" class=\"dataframe\">\n",
       "  <thead>\n",
       "    <tr style=\"text-align: right;\">\n",
       "      <th></th>\n",
       "      <th>qidint</th>\n",
       "      <th>didint</th>\n",
       "      <th>qid</th>\n",
       "      <th>query</th>\n",
       "      <th>did</th>\n",
       "      <th>doc</th>\n",
       "    </tr>\n",
       "  </thead>\n",
       "  <tbody>\n",
       "    <tr>\n",
       "      <th>0</th>\n",
       "      <td>6362512</td>\n",
       "      <td>1005356</td>\n",
       "      <td>10375130</td>\n",
       "      <td>non qualified deferred comp plan</td>\n",
       "      <td>D3419629</td>\n",
       "      <td>https://targetjobs.co.uk/careers-advice/job-de...</td>\n",
       "    </tr>\n",
       "    <tr>\n",
       "      <th>1</th>\n",
       "      <td>3073276</td>\n",
       "      <td>1005356</td>\n",
       "      <td>10697799</td>\n",
       "      <td>facts about bones</td>\n",
       "      <td>D3419629</td>\n",
       "      <td>https://targetjobs.co.uk/careers-advice/job-de...</td>\n",
       "    </tr>\n",
       "    <tr>\n",
       "      <th>2</th>\n",
       "      <td>7180121</td>\n",
       "      <td>1005356</td>\n",
       "      <td>5767772</td>\n",
       "      <td>ptsd handout</td>\n",
       "      <td>D3419629</td>\n",
       "      <td>https://targetjobs.co.uk/careers-advice/job-de...</td>\n",
       "    </tr>\n",
       "  </tbody>\n",
       "</table>\n",
       "</div>"
      ],
      "text/plain": [
       "    qidint   didint       qid                             query       did  \\\n",
       "0  6362512  1005356  10375130  non qualified deferred comp plan  D3419629   \n",
       "1  3073276  1005356  10697799                 facts about bones  D3419629   \n",
       "2  7180121  1005356   5767772                      ptsd handout  D3419629   \n",
       "\n",
       "                                                 doc  \n",
       "0  https://targetjobs.co.uk/careers-advice/job-de...  \n",
       "1  https://targetjobs.co.uk/careers-advice/job-de...  \n",
       "2  https://targetjobs.co.uk/careers-advice/job-de...  "
      ]
     },
     "execution_count": 61,
     "metadata": {},
     "output_type": "execute_result"
    }
   ],
   "source": [
    "nonedgesdata2.head(3)"
   ]
  },
  {
   "cell_type": "code",
   "execution_count": 69,
   "metadata": {},
   "outputs": [],
   "source": [
    "data0 = nonedgesdata2[['qid','query','did','doc']].drop_duplicates()\n",
    "data0['label'] = 0\n",
    "\n",
    "data1 = data[['qid','query','did','doc']].drop_duplicates()\n",
    "data1['label'] = 1"
   ]
  },
  {
   "cell_type": "code",
   "execution_count": 70,
   "metadata": {},
   "outputs": [
    {
     "data": {
      "text/html": [
       "<div>\n",
       "<style scoped>\n",
       "    .dataframe tbody tr th:only-of-type {\n",
       "        vertical-align: middle;\n",
       "    }\n",
       "\n",
       "    .dataframe tbody tr th {\n",
       "        vertical-align: top;\n",
       "    }\n",
       "\n",
       "    .dataframe thead th {\n",
       "        text-align: right;\n",
       "    }\n",
       "</style>\n",
       "<table border=\"1\" class=\"dataframe\">\n",
       "  <thead>\n",
       "    <tr style=\"text-align: right;\">\n",
       "      <th></th>\n",
       "      <th>qid</th>\n",
       "      <th>query</th>\n",
       "      <th>did</th>\n",
       "      <th>doc</th>\n",
       "      <th>label</th>\n",
       "    </tr>\n",
       "  </thead>\n",
       "  <tbody>\n",
       "    <tr>\n",
       "      <th>0</th>\n",
       "      <td>10375130</td>\n",
       "      <td>non qualified deferred comp plan</td>\n",
       "      <td>D3419629</td>\n",
       "      <td>https://targetjobs.co.uk/careers-advice/job-de...</td>\n",
       "      <td>0</td>\n",
       "    </tr>\n",
       "    <tr>\n",
       "      <th>1</th>\n",
       "      <td>10697799</td>\n",
       "      <td>facts about bones</td>\n",
       "      <td>D3419629</td>\n",
       "      <td>https://targetjobs.co.uk/careers-advice/job-de...</td>\n",
       "      <td>0</td>\n",
       "    </tr>\n",
       "    <tr>\n",
       "      <th>2</th>\n",
       "      <td>5767772</td>\n",
       "      <td>ptsd handout</td>\n",
       "      <td>D3419629</td>\n",
       "      <td>https://targetjobs.co.uk/careers-advice/job-de...</td>\n",
       "      <td>0</td>\n",
       "    </tr>\n",
       "  </tbody>\n",
       "</table>\n",
       "</div>"
      ],
      "text/plain": [
       "        qid                             query       did  \\\n",
       "0  10375130  non qualified deferred comp plan  D3419629   \n",
       "1  10697799                 facts about bones  D3419629   \n",
       "2   5767772                      ptsd handout  D3419629   \n",
       "\n",
       "                                                 doc  label  \n",
       "0  https://targetjobs.co.uk/careers-advice/job-de...      0  \n",
       "1  https://targetjobs.co.uk/careers-advice/job-de...      0  \n",
       "2  https://targetjobs.co.uk/careers-advice/job-de...      0  "
      ]
     },
     "execution_count": 70,
     "metadata": {},
     "output_type": "execute_result"
    }
   ],
   "source": [
    "res = pd.concat([data0, data1], ignore_index=True)\n",
    "res.head(3)"
   ]
  },
  {
   "cell_type": "code",
   "execution_count": 72,
   "metadata": {},
   "outputs": [
    {
     "name": "stdout",
     "output_type": "stream",
     "text": [
      "58823326\n",
      "        qid                     query       did  \\\n",
      "0  11272549  caterpillar to butterfly  D3358478   \n",
      "1   2327436   dean martin thats amore  D1624588   \n",
      "2   9540010                    munbai  D2549898   \n",
      "3   4989404               dns 4.4.4.4  D1470300   \n",
      "4   4384371         anzac day service    D88043   \n",
      "5   4121834                   flirkin  D1006715   \n",
      "6  12522594       art deco definition  D2173622   \n",
      "7   4397811    amazon self-publishing  D2786796   \n",
      "8   6428478  airplane carry on liquid  D3559716   \n",
      "9  10049124   fair work notice period   D284442   \n",
      "\n",
      "                                                 doc  label  \n",
      "0  https://www.thebutterflysite.com/life-cycle.shtml      1  \n",
      "1        https://www.youtube.com/watch?v=OnFlx2Lnr9Q      1  \n",
      "2                http://www.india.com/travel/mumbai/      1  \n",
      "3  https://www.drweil.com/vitamins-supplements-he...      0  \n",
      "4            https://en.wikipedia.org/wiki/Anzac_Day      1  \n",
      "5        https://en.wikipedia.org/wiki/South_Pacific      0  \n",
      "6             http://www.imdb.com/name/nm0934008/bio      0  \n",
      "7  https://www.quora.com/Can-Starbucks-offer-thei...      0  \n",
      "8  http://www.ulta.com/infiniti-curling-wand-styl...      0  \n",
      "9  http://www.fairwork.gov.au/ending-employment/n...      1  \n"
     ]
    }
   ],
   "source": [
    "print(len(res))\n",
    "res = res.sample(frac=1).reset_index(drop=True)\n",
    "print(res.head(10))\n",
    "\n",
    "import os\n",
    "\n",
    "os.makedirs('../../data/validation', exist_ok=True)\n",
    "\n",
    "res.to_csv('../../data/validation/approx60M.tsv', sep='\\t', index=False, header=False)"
   ]
  },
  {
   "cell_type": "code",
   "execution_count": 91,
   "metadata": {},
   "outputs": [],
   "source": [
    "temp = pd.read_csv('C:\\\\Users\\\\thumm\\\\Documents\\\\machineLearning\\\\nlp\\\\data\\\\validation\\\\splits\\\\approx60M_1.tsv', sep='\\t', header=None)"
   ]
  },
  {
   "cell_type": "code",
   "execution_count": 92,
   "metadata": {},
   "outputs": [
    {
     "data": {
      "text/html": [
       "<div>\n",
       "<style scoped>\n",
       "    .dataframe tbody tr th:only-of-type {\n",
       "        vertical-align: middle;\n",
       "    }\n",
       "\n",
       "    .dataframe tbody tr th {\n",
       "        vertical-align: top;\n",
       "    }\n",
       "\n",
       "    .dataframe thead th {\n",
       "        text-align: right;\n",
       "    }\n",
       "</style>\n",
       "<table border=\"1\" class=\"dataframe\">\n",
       "  <thead>\n",
       "    <tr style=\"text-align: right;\">\n",
       "      <th></th>\n",
       "      <th>0</th>\n",
       "      <th>1</th>\n",
       "      <th>2</th>\n",
       "      <th>3</th>\n",
       "      <th>4</th>\n",
       "    </tr>\n",
       "  </thead>\n",
       "  <tbody>\n",
       "    <tr>\n",
       "      <th>0</th>\n",
       "      <td>11272549</td>\n",
       "      <td>caterpillar to butterfly</td>\n",
       "      <td>D3358478</td>\n",
       "      <td>https://www.thebutterflysite.com/life-cycle.shtml</td>\n",
       "      <td>1</td>\n",
       "    </tr>\n",
       "    <tr>\n",
       "      <th>1</th>\n",
       "      <td>2327436</td>\n",
       "      <td>dean martin thats amore</td>\n",
       "      <td>D1624588</td>\n",
       "      <td>https://www.youtube.com/watch?v=OnFlx2Lnr9Q</td>\n",
       "      <td>1</td>\n",
       "    </tr>\n",
       "    <tr>\n",
       "      <th>2</th>\n",
       "      <td>9540010</td>\n",
       "      <td>munbai</td>\n",
       "      <td>D2549898</td>\n",
       "      <td>http://www.india.com/travel/mumbai/</td>\n",
       "      <td>1</td>\n",
       "    </tr>\n",
       "    <tr>\n",
       "      <th>3</th>\n",
       "      <td>4989404</td>\n",
       "      <td>dns 4.4.4.4</td>\n",
       "      <td>D1470300</td>\n",
       "      <td>https://www.drweil.com/vitamins-supplements-he...</td>\n",
       "      <td>0</td>\n",
       "    </tr>\n",
       "    <tr>\n",
       "      <th>4</th>\n",
       "      <td>4384371</td>\n",
       "      <td>anzac day service</td>\n",
       "      <td>D88043</td>\n",
       "      <td>https://en.wikipedia.org/wiki/Anzac_Day</td>\n",
       "      <td>1</td>\n",
       "    </tr>\n",
       "  </tbody>\n",
       "</table>\n",
       "</div>"
      ],
      "text/plain": [
       "          0                         1         2  \\\n",
       "0  11272549  caterpillar to butterfly  D3358478   \n",
       "1   2327436   dean martin thats amore  D1624588   \n",
       "2   9540010                    munbai  D2549898   \n",
       "3   4989404               dns 4.4.4.4  D1470300   \n",
       "4   4384371         anzac day service    D88043   \n",
       "\n",
       "                                                   3  4  \n",
       "0  https://www.thebutterflysite.com/life-cycle.shtml  1  \n",
       "1        https://www.youtube.com/watch?v=OnFlx2Lnr9Q  1  \n",
       "2                http://www.india.com/travel/mumbai/  1  \n",
       "3  https://www.drweil.com/vitamins-supplements-he...  0  \n",
       "4            https://en.wikipedia.org/wiki/Anzac_Day  1  "
      ]
     },
     "execution_count": 92,
     "metadata": {},
     "output_type": "execute_result"
    }
   ],
   "source": [
    "temp.head()"
   ]
  },
  {
   "cell_type": "code",
   "execution_count": 93,
   "metadata": {},
   "outputs": [
    {
     "data": {
      "text/html": [
       "<div>\n",
       "<style scoped>\n",
       "    .dataframe tbody tr th:only-of-type {\n",
       "        vertical-align: middle;\n",
       "    }\n",
       "\n",
       "    .dataframe tbody tr th {\n",
       "        vertical-align: top;\n",
       "    }\n",
       "\n",
       "    .dataframe thead th {\n",
       "        text-align: right;\n",
       "    }\n",
       "</style>\n",
       "<table border=\"1\" class=\"dataframe\">\n",
       "  <thead>\n",
       "    <tr style=\"text-align: right;\">\n",
       "      <th></th>\n",
       "      <th>0</th>\n",
       "      <th>1</th>\n",
       "      <th>2</th>\n",
       "      <th>3</th>\n",
       "      <th>4</th>\n",
       "    </tr>\n",
       "  </thead>\n",
       "  <tbody>\n",
       "    <tr>\n",
       "      <th>108832</th>\n",
       "      <td>8998773</td>\n",
       "      <td>http://www.w3.org/2000/svg\\tD1224869\\thttps://...</td>\n",
       "      <td>D619470</td>\n",
       "      <td>https://account.live.com/acsr</td>\n",
       "      <td>1</td>\n",
       "    </tr>\n",
       "  </tbody>\n",
       "</table>\n",
       "</div>"
      ],
      "text/plain": [
       "              0                                                  1        2  \\\n",
       "108832  8998773  http://www.w3.org/2000/svg\\tD1224869\\thttps://...  D619470   \n",
       "\n",
       "                                    3  4  \n",
       "108832  https://account.live.com/acsr  1  "
      ]
     },
     "execution_count": 93,
     "metadata": {},
     "output_type": "execute_result"
    }
   ],
   "source": [
    "temp[temp[0]==8998773]"
   ]
  },
  {
   "cell_type": "code",
   "execution_count": 85,
   "metadata": {},
   "outputs": [
    {
     "name": "stdout",
     "output_type": "stream",
     "text": [
      "8460983\tmadurensis calamondin\tD615701\thttps://www.usatoday.com/story/money/columnist/brooks/2013/05/06/social-security-retirement-pension-401k/2132295/\t0\n",
      "8146901\teye chalazion treatment\tD1192422\thttps://weather.com/weather/tenday/l/Ashland+AL+36251:4:US\t0\n",
      "7585151\tsan andras\tD3279310\thttps://www.nytimes.com/2015/04/16/style/keeping-your-car-safe-from-electronic-thieves.html\t0\n",
      "2712820\tcollege bowl game scores\tD1229170\thttps://en.wikipedia.org/wiki/Time_in_Russia\t0\n",
      "10763058\tkitchen faucets canada\tD3230111\thttp://kmz.extensionfile.net/\t0\n",
      "4580505\thow to get ear to pop\tD440105\thttps://www.wikihow.com/Unpop-Your-Ears\t1\n",
      "7037161\tphylums of animalia\tD682972\thttps://en.wikipedia.org/wiki/NY_SAFE_Act\t0\n",
      "6246165\tlunar eclispe\tD1794903\thttps://support.tangohealth.com/hc/en-us/articles/220274528-IRS-HSA-Penalties\t0\n",
      "8428295\tscott kelly astronaut divorce\tD2367101\thttps://www.a-1truckschool.com/tuition/\t0\n",
      "3924331\tfluid compartment\tD1125306\thttp://antranik.org/fluid-compartments-within-the-human-body/\t1\n",
      "7714126\tcivil rule 26\tD47425\thttps://www.law.cornell.edu/rules/frcp/rule_26\t1\n",
      "10897415\ttidal jobs\tD3001057\thttp://tidal.com/\t1\n",
      "6841021\twords ending ly\tD2303310\thttps://en.wikipedia.org/wiki/Solar_core\t0\n",
      "7257194\twhere do i find the wps pin on my hp printer\tD2186438\thttps://support.google.com/youtube/answer/3037019?co=GENIE.Platform%3DAndroid&hl=en\t0\n",
      "3268511\texpressed terms\tD163524\thttp://www.makeuseof.com/tag/types-computer-viruses-watch/\t0\n",
      "2258022\telbys big boy\tD1510481\thttp://www.bigboy.com/locations/\t1\n",
      "9672652\tabdominal pain pregnancy\tD109659\thttps://www.babycentre.co.uk/a204/abdominal-pain-in-pregnancy\t1\n",
      "11596048\tobx marathon\tD3426625\thttps://en.wikipedia.org/wiki/Illustra\t0\n",
      "2765211\ta thousand winds\tD552856\thttps://my.clevelandclinic.org/health/diseases/15225-achilles-tendon-injury---including-achilles-tendinitis-and-achilles-tendon-rupture\t0\n",
      "11938848\ttempo lockheed\tD2202871\thttp://www.lockheedmartin.com/us/employees.html\t1\n",
      "10381280\ttime zone for arkansas\tD486070\thttps://en.wikipedia.org/wiki/Southern_flying_squirrel\t0\n",
      "12187864\twhat is a number bond\tD1291534\thttp://www.answers.com/Q/How_old_do_you_have_to_be_to_get_into_a_r_rated_movie\t0\n",
      "9987987\twww.droz.com\tD1790954\thttps://www.britannica.com/place/Auschwitz\t0\n",
      "6622128\tturbotax login help phone number\tD98142\thttps://support.turbotax.intuit.com/contact/\t1\n",
      "11473441\tview drives windows 10\tD1322102\thttps://www.computerhope.com/issues/ch000854.htm\t1\n",
      "6027455\tmicrostroke\tD1577996\thttp://aynrandlexicon.com/lexicon/statism.html\t0\n",
      "10520103\tmovies on sling\tD1124879\thttps://www.cntraveler.com/galleries/2015-03-19/best-beaches-in-india-beyond-goa\t0\n",
      "2778491\tyokes pharmacy\tD2226358\thttp://specialolympics.org/Sections/Who_We_Are/What_Is_Intellectual_Disability.aspx\t0\n",
      "3578965\tludwig van beethoven 5th symphony\tD117803\thttps://en.wikipedia.org/wiki/Symphony_No._5_(Beethoven)\t1\n",
      "6032279\tmixed number to improper fractions\tD2599740\thttp://www.bbc.co.uk/bitesize/ks3/maths/number/fractions/revision/5/\t1\n",
      "5409450\twhat is considered a high fever in adults\tD3549033\thttps://www.audioenglish.org/dictionary/orifice.htm\t0\n",
      "4747226\tdifference between simm and dimm\tD2155708\thttps://www.rottentomatoes.com/m/scoobydoo_and_the_witchs_ghost/\t0\n",
      "8998773\t\"http://www.w3.org/2000/svg\tD1224869\thttps://en.wikipedia.org/wiki/SVG\n",
      "4120189\thttps://account.live.com/proofs/marklost\"\"\"\tD619470\thttps://account.live.com/acsr\t1\n",
      "9254364\tketo carbs\tD2402908\thttps://www.perfectketo.com/how-many-carbs-on-keto/\t1\n",
      "6486131\tpepsi sales\tD1066588\thttp://www.pepsico.com/home/Contact\t1\n",
      "7819748\topioid effects on brain\tD2630211\thttps://legal-dictionary.thefreedictionary.com/president\t0\n",
      "9639845\tva beach va hotels\tD2363651\thttps://www.hotels.com/de1508582/hotels-bolton-landing-new-york/\t0\n",
      "5958876\ta midsummer's night dream sparknotes\tD1305540\thttps://www.houselogic.com/organize-maintain/home-maintenance-tips/attic-insulation-savings/\t0\n",
      "9209478\tbourbon alcohol\tD2092901\thttp://www.socialstudiesforkids.com/articles/ushistory/13coloniesfarm.htm\t0\n",
      "7494427\tdid burt reynolds play on gunsmoke\tD395745\thttps://www.thefreedictionary.com/spinster\t0\n",
      "11576182\tbei ling\tD1740874\thttp://www.imdb.com/name/nm0000499/\t1\n",
      "9556484\tguardianship laws\tD3382090\thttps://www.healthtap.com/topics/arcus-senilis-treatment\t0\n",
      "5818869\tland for sale in potter county pa\tD3330387\thttps://www.landwatch.com/Pennsylvania_land_for_sale/Potter_County\t1\n",
      "3290252\tsql server 2016 os requirements\tD1651032\thttps://www.wirecard.com/products/issuing/\t0\n",
      "9952504\theartland hatchery\tD2070160\thttps://www.theguardian.com/technology/askjack/2010/oct/21/c-drive-d-drive-partitioning\t0\n",
      "10015286\twho was hannibal\tD2728703\thttp://sentence.yourdictionary.com/wording\t0\n",
      "12006715\thuman body lungs\tD1247901\thttps://en.wikipedia.org/wiki/Grand_staff\t0\n",
      "6275045\tanglo saxon jobs ks2\tD3063960\thttps://www.esouniverse.com/guides/crafting/provisioning/\t0\n",
      "7997660\tscientific notation to standard calculator\tD1981870\thttps://quizlet.com/17070231/psych-101-quizes-flash-cards/\t0\n",
      "3101876\tkezboard language\tD2795658\thttps://www.conversationexchange.com/resources/keyboard-language.php\t1\n",
      "8599900\tsouthwest airlin\tD154375\thttps://www.southwest.com/flight/\t1\n",
      "6879511\tface to face examples for home health\tD274495\thttps://americanexcelsior.com/erosion-control/\t0\n",
      "7169197\tfairly oddparents cast\tD2645146\thttps://en.wikipedia.org/wiki/Pine_Lake,_Wisconsin\t0\n",
      "9912001\tmath major careers\tD1522461\thttp://www.nydailynews.com/news/national/smith-shooting-suspect-football-player-article-1.2595293\t0\n",
      "3895041\tgoogle fi with iphone\tD107145\thttp://www.thefreedictionary.com/audible\t0\n",
      "11411832\tgulfport mississippi navy base\tD3354142\thttp://www.kids.esdb.bg/naturalgas.html\t0\n",
      "10578663\tdmv nevada\tD3055105\thttp://www.dmvnv.com/dashpass.htm\t1\n",
      "7653579\tmeme generator online\tD873454\thttps://memegenerator.net/\t1\n",
      "11685618\tmycollingwood.ca\tD1282282\thttp://www.collingwood.ca/\t1\n",
      "10734786\tfriedrich trump bio\tD725379\thttps://www.mapquest.com/us/tx/winnsboro-282037319\t0\n",
      "8623071\tnative american culture and traditions\tD2943627\thttps://en.wikipedia.org/wiki/Affiliated_company\t0\n",
      "9363734\ttime now in illinois\tD1362672\thttps://www.timeanddate.com/worldclock/usa/chicago\t1\n",
      "6674352\tpurpose of the gallbladder\tD1203152\thttp://www.hipaasurvivalguide.com/hipaa-regulations/164-501.php\t0\n"
     ]
    }
   ],
   "source": [
    "with open('C:\\\\Users\\\\thumm\\\\Documents\\\\machineLearning\\\\nlp\\\\data\\\\validation\\\\splits\\\\approx60M_1.tsv', 'r') as fp:\n",
    "    fp.seek(10943398)\n",
    "    for i in range(64):\n",
    "        s = fp.readline().strip('\\n\\r')\n",
    "        print(s)"
   ]
  },
  {
   "cell_type": "code",
   "execution_count": 75,
   "metadata": {},
   "outputs": [
    {
     "name": "stdout",
     "output_type": "stream",
     "text": [
      "11272549\tcaterpillar to butterfly\tD3358478\thttps://www.thebutterflysite.com/life-cycle.shtml\t1\n",
      "\n"
     ]
    }
   ],
   "source": [
    "with open('../../data/validation/approx60M.tsv', 'r', encoding = 'utf-8') as fp:\n",
    "    print(fp.readline())\n"
   ]
  },
  {
   "cell_type": "code",
   "execution_count": 80,
   "metadata": {},
   "outputs": [],
   "source": [
    "from filesplit.split import Split\n",
    "os.makedirs('../../data/validation/splits/', exist_ok=True)\n",
    "split = Split('../../data/validation/approx60M.tsv', '../../data/validation/splits/')\n",
    "partition_size = os.path.getsize(inputfile) / 50\n",
    "split.bysize(partition_size, newline=True)"
   ]
  },
  {
   "cell_type": "code",
   "execution_count": 77,
   "metadata": {},
   "outputs": [
    {
     "name": "stdout",
     "output_type": "stream",
     "text": [
      "Collecting filesplit\n",
      "  Using cached filesplit-4.0.1-py3-none-any.whl (9.2 kB)\n",
      "Installing collected packages: filesplit\n",
      "Successfully installed filesplit-4.0.1\n"
     ]
    }
   ],
   "source": [
    "!pip install filesplit"
   ]
  }
 ],
 "metadata": {
  "kernelspec": {
   "display_name": "Python 3 (ipykernel)",
   "language": "python",
   "name": "python3"
  },
  "language_info": {
   "codemirror_mode": {
    "name": "ipython",
    "version": 3
   },
   "file_extension": ".py",
   "mimetype": "text/x-python",
   "name": "python",
   "nbconvert_exporter": "python",
   "pygments_lexer": "ipython3",
   "version": "3.9.13"
  },
  "vscode": {
   "interpreter": {
    "hash": "236e390f322ca36818ec1496ebc534c09a217859c9d3bc15ab4d1ba44d5af12f"
   }
  }
 },
 "nbformat": 4,
 "nbformat_minor": 2
}
